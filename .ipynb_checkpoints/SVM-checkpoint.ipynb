{
 "cells": [
  {
   "cell_type": "code",
   "execution_count": null,
   "id": "d846a0e1",
   "metadata": {},
   "outputs": [],
   "source": [
    "import pandas\n",
    "from sklearn import svm\n",
    "import matplotlib.pyplot as plt\n",
    "\n",
    "\n",
    "df_job=pd.read_csv(\"jobs.csv\")\n",
    "\n",
    "Csvm = [0.1,0.5,0.8,1,1.5,2,2.5,3,3.5]\n",
    "\n",
    "trainAcc = [] \n",
    "testAcc = []\n",
    "\n",
    "\n",
    "for c in Csvm:\n",
    "    modelsvm = svm.SVC(C= c, gamma=1, kernel= \"rbf\")\n",
    "    svmfit = modelsvm.fit(X_train, y_train)\n",
    "    Y_predTrain = modelsvm.predict(X_train)\n",
    "    Y_predTest = modelsvm.predict(X_test)\n",
    "    trainAcc.append(accuracy_score(y_train,Y_predTrain))\n",
    "    testAcc.append(accuracy_score(y_test,Y_predTest))\n",
    "    \n",
    "    \n",
    "plt.plot(Csvm, trainAcc, \"ro-\", Csvm, testAcc, \"bv--\")    \n",
    "plt.legend([\"Training Accuracy\", \"Testing Accuracy\"])\n",
    "plt.xlabel(\"Number of C\")\n",
    "plt.ylabel(\"Accuracy\")     \n",
    "\n",
    "\n",
    "\n",
    "svm = svm.SVC(C= 5, gamma= 1, kernel= \"rbf\", probability=True)\n",
    "svmfit = svm.fit(X_train, y_train)\n",
    "svm_predictions = svmfit.predict(X_test)\n",
    "svm_acc = accuracy_score(y_test, svm_predictions)\n",
    "print(\"Accuracy of SVM:\" + str(svm_acc))\n",
    "print(classification_report(y_test, svm_predictions))"
   ]
  }
 ],
 "metadata": {
  "kernelspec": {
   "display_name": "Python 3 (ipykernel)",
   "language": "python",
   "name": "python3"
  },
  "language_info": {
   "codemirror_mode": {
    "name": "ipython",
    "version": 3
   },
   "file_extension": ".py",
   "mimetype": "text/x-python",
   "name": "python",
   "nbconvert_exporter": "python",
   "pygments_lexer": "ipython3",
   "version": "3.10.9"
  }
 },
 "nbformat": 4,
 "nbformat_minor": 5
}
